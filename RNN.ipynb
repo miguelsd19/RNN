{
  "cells": [
    {
      "cell_type": "markdown",
      "metadata": {
        "id": "view-in-github",
        "colab_type": "text"
      },
      "source": [
        "<a href=\"https://colab.research.google.com/github/miguelsd19/RNN/blob/main/RNN.ipynb\" target=\"_parent\"><img src=\"https://colab.research.google.com/assets/colab-badge.svg\" alt=\"Open In Colab\"/></a>"
      ]
    },
    {
      "cell_type": "markdown",
      "source": [
        "# Universidad Autónoma de Aguascalientes.\n",
        "<img src=\"logo_uaa-2.jpg\" alt=\"\">\n",
        "\n",
        "\n",
        "# Centro de Ciencias Básicas.\n",
        "# Departamento de Ciencias de la Computación.\n",
        "# Ingeniería en Computación Inteligente.\n",
        "# Machine y Deep Learning.\n",
        "# Profesor: Francisco Javier Luna Rosas.\n",
        "# Equipo:\n",
        "\n",
        "*   Eduardo Bravo Díaz de León.\n",
        "*   Carlos Enrique Gutiérrez Juárez.\n",
        "*   Karla Franssiela Morones de La Rosa.\n",
        "*   Miguel Sánchez Domínguez.\n",
        "\n",
        "# Proyecto Final RNN"
      ],
      "metadata": {
        "id": "Wv7_e5xYGsD1"
      }
    },
    {
      "cell_type": "markdown",
      "metadata": {
        "id": "SpLIvZsfB9qg"
      },
      "source": [
        "#### Exploracion de los datos"
      ]
    },
    {
      "cell_type": "code",
      "execution_count": null,
      "metadata": {
        "colab": {
          "base_uri": "https://localhost:8080/"
        },
        "id": "GIcflWkIB9qg",
        "outputId": "7a53611b-a731-4532-f59b-6b5a5f134859"
      },
      "outputs": [
        {
          "output_type": "execute_result",
          "data": {
            "text/plain": [
              "(25000,)"
            ]
          },
          "metadata": {},
          "execution_count": 18
        }
      ],
      "source": [
        "X_train.shape\n",
        "y_train.shape\n",
        "X_test.shape\n",
        "y_test.shape"
      ]
    },
    {
      "cell_type": "code",
      "execution_count": null,
      "metadata": {
        "colab": {
          "base_uri": "https://localhost:8080/"
        },
        "id": "5_mrzmrUB9qh",
        "outputId": "41bf44db-ad2f-4b4e-d6b4-515781bf354b"
      },
      "outputs": [
        {
          "output_type": "stream",
          "name": "stdout",
          "text": [
            "Pretty printing has been turned OFF\n"
          ]
        },
        {
          "output_type": "execute_result",
          "data": {
            "text/plain": [
              "[1, 307, 5, 1301, 20, 1026, 2511, 87, 2775, 52, 116, 5, 31, 7, 4, 91, 1220, 102, 13, 28, 110, 11, 6, 137, 13, 115, 219, 141, 35, 221, 956, 54, 13, 16, 11, 2714, 61, 322, 423, 12, 38, 76, 59, 1803, 72, 8, 2, 23, 5, 967, 12, 38, 85, 62, 358, 99]"
            ]
          },
          "metadata": {},
          "execution_count": 5
        }
      ],
      "source": [
        "%pprint\n",
        "X_train[123]"
      ]
    },
    {
      "cell_type": "code",
      "source": [
        "word_to_index= imdb.get_word_index()"
      ],
      "metadata": {
        "colab": {
          "base_uri": "https://localhost:8080/"
        },
        "id": "A3hJKkgwFJ3d",
        "outputId": "1f7fbd73-ccdd-490a-aebd-9e958fd09f07"
      },
      "execution_count": null,
      "outputs": [
        {
          "output_type": "stream",
          "name": "stdout",
          "text": [
            "Downloading data from https://storage.googleapis.com/tensorflow/tf-keras-datasets/imdb_word_index.json\n",
            "1646592/1641221 [==============================] - 0s 0us/step\n",
            "1654784/1641221 [==============================] - 0s 0us/step\n"
          ]
        }
      ]
    },
    {
      "cell_type": "code",
      "execution_count": null,
      "metadata": {
        "colab": {
          "base_uri": "https://localhost:8080/",
          "height": 35
        },
        "id": "R6nLkTvlB9qh",
        "outputId": "d2425dce-95d0-486a-d9b4-ebda3e5dbf23"
      },
      "outputs": [
        {
          "output_type": "execute_result",
          "data": {
            "text/plain": [
              "'?beautifulandtouchingmovierichcolorsgreatsettingsgoodactingandoneofthemostcharmingmoviesihaveseeninawhileineversawsuchaninterestingsettingwheniwasinchinamywifelikeditsomuchsheaskedmeto?onandrateitsootherwouldenjoytoo'"
            ],
            "application/vnd.google.colaboratory.intrinsic+json": {
              "type": "string"
            }
          },
          "metadata": {},
          "execution_count": 7
        }
      ],
      "source": [
        "word_to_index['great']\n",
        "index_to_word = {index: word for (word, index) in word_to_index.items()}\n",
        "[index_to_word[i] for i in range(1,51)] \n",
        "''.join([index_to_word.get(i-3, '?') for i in X_train[123]])"
      ]
    },
    {
      "cell_type": "code",
      "execution_count": null,
      "metadata": {
        "colab": {
          "base_uri": "https://localhost:8080/"
        },
        "id": "BN8c0g5dB9qi",
        "outputId": "38b89b35-ea33-44d1-a723-272b0f31731e"
      },
      "outputs": [
        {
          "output_type": "execute_result",
          "data": {
            "text/plain": [
              "1"
            ]
          },
          "metadata": {},
          "execution_count": 8
        }
      ],
      "source": [
        "y_train[123]"
      ]
    },
    {
      "cell_type": "markdown",
      "metadata": {
        "id": "qGMilGCIB9qa"
      },
      "source": [
        "#### Cargando el dataset  deI IMDb"
      ]
    },
    {
      "cell_type": "code",
      "execution_count": null,
      "metadata": {
        "id": "3VQOp_0KB9qg"
      },
      "outputs": [],
      "source": [
        "number_of_words= 5000\n",
        "(X_train, y_train), (X_test, y_test) = imdb.load_data(num_words=number_of_words)"
      ]
    },
    {
      "cell_type": "code",
      "execution_count": null,
      "metadata": {
        "id": "rJFhVDotB9qe"
      },
      "outputs": [],
      "source": [
        "from tensorflow.keras.datasets import imdb\n",
        "from tensorflow.keras.preprocessing.sequence import pad_sequences\n",
        "from sklearn.model_selection import train_test_split\n",
        "from tensorflow.keras.models import Sequential\n",
        "from tensorflow.keras.layers import Dense, LSTM, Embedding\n",
        "import numpy as np"
      ]
    },
    {
      "cell_type": "markdown",
      "metadata": {
        "id": "QO9vAnP1B9qj"
      },
      "source": [
        "#### Preparacion de los datos"
      ]
    },
    {
      "cell_type": "code",
      "execution_count": null,
      "metadata": {
        "colab": {
          "base_uri": "https://localhost:8080/"
        },
        "id": "uffOOZ9RB9qj",
        "outputId": "52b2fa14-6f2c-4eee-d0e7-804be8cfde98"
      },
      "outputs": [
        {
          "output_type": "execute_result",
          "data": {
            "text/plain": [
              "(25000, 200)"
            ]
          },
          "metadata": {},
          "execution_count": 38
        }
      ],
      "source": [
        "words_per_review = 200\n",
        "X_train =pad_sequences(X_train, maxlen=words_per_review)\n",
        "X_test = pad_sequences(X_test, maxlen=words_per_review)\n",
        "X_test.shape"
      ]
    },
    {
      "cell_type": "code",
      "execution_count": null,
      "metadata": {
        "id": "r1EHfja3B9qk"
      },
      "outputs": [],
      "source": [
        "X_test,X_val, y_test, y_val =  train_test_split(X_test, y_test, random_state=11, test_size=0.20)"
      ]
    },
    {
      "cell_type": "markdown",
      "metadata": {
        "id": "kScVJ5hwB9qk"
      },
      "source": [
        "#### Creando la red neuronal"
      ]
    },
    {
      "cell_type": "code",
      "execution_count": null,
      "metadata": {
        "id": "oK0xT3clB9qk"
      },
      "outputs": [],
      "source": [
        "rnn = Sequential()"
      ]
    },
    {
      "cell_type": "code",
      "execution_count": null,
      "metadata": {
        "id": "lmC39FYdB9ql"
      },
      "outputs": [],
      "source": [
        "rnn.add(Embedding(input_dim=number_of_words, output_dim=128, input_length=words_per_review))\n",
        "\n",
        "rnn.add(LSTM(units=128, dropout=0.2, recurrent_dropout=0.2))\n",
        "\n",
        "rnn.add(Dense(units=1, activation='sigmoid'))"
      ]
    },
    {
      "cell_type": "code",
      "execution_count": null,
      "metadata": {
        "id": "AVZ8r59FB9qm"
      },
      "outputs": [],
      "source": [
        "rnn.compile(optimizer='adam', loss='binary_crossentropy', metrics=['accuracy'])"
      ]
    },
    {
      "cell_type": "code",
      "execution_count": null,
      "metadata": {
        "colab": {
          "base_uri": "https://localhost:8080/"
        },
        "id": "na_iE43nB9qm",
        "outputId": "1f26b568-1d82-4fbd-fd75-ecc985b84f91"
      },
      "outputs": [
        {
          "output_type": "stream",
          "name": "stdout",
          "text": [
            "Model: \"sequential_1\"\n",
            "_________________________________________________________________\n",
            " Layer (type)                Output Shape              Param #   \n",
            "=================================================================\n",
            " embedding_1 (Embedding)     (None, 200, 128)          640000    \n",
            "                                                                 \n",
            " lstm_1 (LSTM)               (None, 128)               131584    \n",
            "                                                                 \n",
            " dense_1 (Dense)             (None, 1)                 129       \n",
            "                                                                 \n",
            "=================================================================\n",
            "Total params: 771,713\n",
            "Trainable params: 771,713\n",
            "Non-trainable params: 0\n",
            "_________________________________________________________________\n"
          ]
        }
      ],
      "source": [
        "rnn.summary()"
      ]
    },
    {
      "cell_type": "code",
      "source": [
        "batch_size = 64\n",
        "X_valid, y_valid = X_train[:batch_size], y_train[:batch_size]\n",
        "X_train2, y_train2 = X_train[batch_size:], y_train[batch_size:]"
      ],
      "metadata": {
        "id": "rFzATKrMoD5a"
      },
      "execution_count": null,
      "outputs": []
    },
    {
      "cell_type": "code",
      "execution_count": null,
      "metadata": {
        "colab": {
          "base_uri": "https://localhost:8080/"
        },
        "id": "mxD8cgqLB9qm",
        "outputId": "1e9f355a-3158-4975-f235-04d16955c5ff"
      },
      "outputs": [
        {
          "output_type": "stream",
          "name": "stdout",
          "text": [
            "Epoch 1/3\n",
            "390/390 [==============================] - 306s 776ms/step - loss: 0.4274 - accuracy: 0.7988 - val_loss: 0.3006 - val_accuracy: 0.9062\n",
            "Epoch 2/3\n",
            "390/390 [==============================] - 306s 785ms/step - loss: 0.2727 - accuracy: 0.8899 - val_loss: 0.2702 - val_accuracy: 0.9062\n",
            "Epoch 3/3\n",
            "390/390 [==============================] - 322s 827ms/step - loss: 0.2241 - accuracy: 0.9123 - val_loss: 0.2722 - val_accuracy: 0.9219\n"
          ]
        },
        {
          "output_type": "execute_result",
          "data": {
            "text/plain": [
              "<keras.callbacks.History object at 0x7f0d39b97a50>"
            ]
          },
          "metadata": {},
          "execution_count": 45
        }
      ],
      "source": [
        "rnn.fit(X_train2, y_train2, validation_data=(X_valid, y_valid), batch_size=64, epochs=3)"
      ]
    },
    {
      "cell_type": "code",
      "source": [
        "results=rnn.evaluate(X_test, y_test, verbose=0)"
      ],
      "metadata": {
        "id": "_JXa2kTUobjE"
      },
      "execution_count": null,
      "outputs": []
    },
    {
      "cell_type": "code",
      "source": [
        "results"
      ],
      "metadata": {
        "colab": {
          "base_uri": "https://localhost:8080/"
        },
        "id": "sAAZvqoWFtGC",
        "outputId": "b1373f87-36bb-4ff9-b90a-0479a891b26d"
      },
      "execution_count": null,
      "outputs": [
        {
          "output_type": "execute_result",
          "data": {
            "text/plain": [
              "[0.3529078960418701, 0.8591499924659729]"
            ]
          },
          "metadata": {},
          "execution_count": 48
        }
      ]
    }
  ],
  "metadata": {
    "kernelspec": {
      "display_name": "Python 3",
      "language": "python",
      "name": "python3"
    },
    "language_info": {
      "codemirror_mode": {
        "name": "ipython",
        "version": 3
      },
      "file_extension": ".py",
      "mimetype": "text/x-python",
      "name": "python",
      "nbconvert_exporter": "python",
      "pygments_lexer": "ipython3",
      "version": "3.8.3"
    },
    "colab": {
      "name": "RNN.ipynb",
      "provenance": [],
      "collapsed_sections": [],
      "include_colab_link": true
    }
  },
  "nbformat": 4,
  "nbformat_minor": 0
}